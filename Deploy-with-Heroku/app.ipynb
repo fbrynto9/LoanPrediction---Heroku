{
 "cells": [
  {
   "cell_type": "code",
   "execution_count": 5,
   "id": "397f73aa",
   "metadata": {},
   "outputs": [],
   "source": [
    "import numpy as np\n",
    "from flask import Flask, request, jsonify, render_template\n",
    "import pickle"
   ]
  },
  {
   "cell_type": "code",
   "execution_count": 9,
   "id": "3e33230a",
   "metadata": {},
   "outputs": [
    {
     "name": "stdout",
     "output_type": "stream",
     "text": [
      " * Serving Flask app \"__main__\" (lazy loading)\n",
      " * Environment: production\n",
      "   WARNING: This is a development server. Do not use it in a production deployment.\n",
      "   Use a production WSGI server instead.\n",
      " * Debug mode: off\n"
     ]
    },
    {
     "name": "stderr",
     "output_type": "stream",
     "text": [
      " * Running on http://127.0.0.1:5000/ (Press CTRL+C to quit)\n",
      "127.0.0.1 - - [28/Aug/2021 14:42:17] \"\u001b[37mGET / HTTP/1.1\u001b[0m\" 200 -\n",
      "127.0.0.1 - - [28/Aug/2021 14:42:17] \"\u001b[33mGET /fonts/raleway/Raleway-SemiBold.ttf HTTP/1.1\u001b[0m\" 404 -\n",
      "127.0.0.1 - - [28/Aug/2021 14:42:51] \"\u001b[37mPOST /predict HTTP/1.1\u001b[0m\" 200 -\n",
      "127.0.0.1 - - [28/Aug/2021 14:42:51] \"\u001b[33mGET /fonts/raleway/Raleway-SemiBold.ttf HTTP/1.1\u001b[0m\" 404 -\n",
      "127.0.0.1 - - [28/Aug/2021 14:43:43] \"\u001b[37mPOST /predict HTTP/1.1\u001b[0m\" 200 -\n",
      "127.0.0.1 - - [28/Aug/2021 14:43:43] \"\u001b[33mGET /fonts/raleway/Raleway-SemiBold.ttf HTTP/1.1\u001b[0m\" 404 -\n",
      "127.0.0.1 - - [28/Aug/2021 14:44:34] \"\u001b[37mPOST /predict HTTP/1.1\u001b[0m\" 200 -\n",
      "127.0.0.1 - - [28/Aug/2021 14:44:34] \"\u001b[33mGET /fonts/raleway/Raleway-SemiBold.ttf HTTP/1.1\u001b[0m\" 404 -\n",
      "127.0.0.1 - - [28/Aug/2021 14:45:39] \"\u001b[37mPOST /predict HTTP/1.1\u001b[0m\" 200 -\n",
      "127.0.0.1 - - [28/Aug/2021 14:45:39] \"\u001b[33mGET /fonts/raleway/Raleway-SemiBold.ttf HTTP/1.1\u001b[0m\" 404 -\n",
      "127.0.0.1 - - [28/Aug/2021 14:46:33] \"\u001b[37mPOST /predict HTTP/1.1\u001b[0m\" 200 -\n",
      "127.0.0.1 - - [28/Aug/2021 14:46:33] \"\u001b[33mGET /fonts/raleway/Raleway-SemiBold.ttf HTTP/1.1\u001b[0m\" 404 -\n",
      "127.0.0.1 - - [28/Aug/2021 14:47:52] \"\u001b[37mPOST /predict HTTP/1.1\u001b[0m\" 200 -\n",
      "127.0.0.1 - - [28/Aug/2021 14:47:52] \"\u001b[33mGET /fonts/raleway/Raleway-SemiBold.ttf HTTP/1.1\u001b[0m\" 404 -\n"
     ]
    }
   ],
   "source": [
    "app = Flask(__name__)\n",
    "model = pickle.load(open('rf_model.pkl', 'rb'))\n",
    "\n",
    "\n",
    "@app.route('/')\n",
    "def home():\n",
    "    return render_template('index.html')\n",
    "\n",
    "@app.route('/predict',methods=['POST'])\n",
    "def predict():\n",
    "\n",
    "    int_features = [int(x) for x in request.form.values()]\n",
    "    final_features = [np.array(int_features)]\n",
    "    prediction = model.predict(final_features)\n",
    "\n",
    "    output = round(prediction[0], 2)\n",
    "\n",
    "    return render_template('index.html', prediction_text='PROBABILITY THAT YOUR LOAN WILL GET APPROVED IS ; {}'.format(output))\n",
    "\n",
    "@app.route('/results',methods=['POST'])\n",
    "def results():\n",
    "\n",
    "    data = request.get_json(force=True)\n",
    "    prediction = model.predict([np.array(list(data.values()))])\n",
    "\n",
    "    output = prediction[0]\n",
    "    return jsonify(output)\n",
    "\n",
    "if __name__ == \"__main__\":\n",
    "    app.run()"
   ]
  },
  {
   "cell_type": "code",
   "execution_count": null,
   "id": "83d20470",
   "metadata": {},
   "outputs": [],
   "source": []
  },
  {
   "cell_type": "code",
   "execution_count": null,
   "id": "709debe8",
   "metadata": {},
   "outputs": [],
   "source": []
  }
 ],
 "metadata": {
  "kernelspec": {
   "display_name": "Python 3 (ipykernel)",
   "language": "python",
   "name": "python3"
  },
  "language_info": {
   "codemirror_mode": {
    "name": "ipython",
    "version": 3
   },
   "file_extension": ".py",
   "mimetype": "text/x-python",
   "name": "python",
   "nbconvert_exporter": "python",
   "pygments_lexer": "ipython3",
   "version": "3.9.13"
  }
 },
 "nbformat": 4,
 "nbformat_minor": 5
}
